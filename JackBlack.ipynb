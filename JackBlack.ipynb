{
 "metadata": {
  "language_info": {
   "codemirror_mode": {
    "name": "ipython",
    "version": 3
   },
   "file_extension": ".py",
   "mimetype": "text/x-python",
   "name": "python",
   "nbconvert_exporter": "python",
   "pygments_lexer": "ipython3",
   "version": "3.9.1-final"
  },
  "orig_nbformat": 2,
  "kernelspec": {
   "name": "python3",
   "display_name": "Python 3.9.1 64-bit",
   "metadata": {
    "interpreter": {
     "hash": "57a06d42e878518c633c152f97db93f3fccb98e7a94a4c290ace1bbb7b7c4f07"
    }
   }
  }
 },
 "nbformat": 4,
 "nbformat_minor": 2,
 "cells": [
  {
   "cell_type": "code",
   "execution_count": 100,
   "metadata": {},
   "outputs": [],
   "source": [
    "import random as rd #one card to me, then dealer, then me, then a secret card to dealer\n",
    "def CARDdealer():\n",
    "    x=rd.randrange(1,14)\n",
    "    if x>1 and x<11:\n",
    "        card=x\n",
    "    elif x==11:\n",
    "        card='J'\n",
    "    elif x==12:\n",
    "        card='Q'\n",
    "    elif x==13:\n",
    "        card='K'\n",
    "    elif x==1:\n",
    "        card='A'            #need to make either a 1 or 11 value!\n",
    "    return card\n",
    "\n",
    "class player:\n",
    "    def __init__(self):\n",
    "        self.Cardlist=[CARDdealer(),CARDdealer()]\n",
    "        if self.Cardlist[0]==self.Cardlist[1]:\n",
    "            self.SPLIT()\n",
    "\n",
    "    def HIT(self):\n",
    "        self.Cardlist.append(CARDdealer())  #GIVES NEW CARD\n",
    "    #def STAY(self):\n",
    "        #IF CHOSEN, THEN TURN MOVES TO DEALER \n",
    "    def SPLIT(self):\n",
    "        self.CardlistA=[Cardlist[0],CARDdealer()]\n",
    "        self.CardlistB=[Cardlist[1],CARDdealer()]\n",
    "            #SPLITS FROM 1 TO 2 GAMES\n",
    "    def DOUBLE(self):\n",
    "        #DOUBLE BET\n",
    "        self.Cardlist.append(CARDdealer())\n",
    "        #THEN MOVE TURN TO DEALER\n",
    "    def Card_sum(self):\n",
    "        sum = 0 \n",
    "        for i in self.Cardlist:\n",
    "            if isinstance(i,str): \n",
    "                if i == 'J' or i =='Q' or i=='K':\n",
    "                    sum += 10\n",
    "                elif i == 'A':\n",
    "                    if sum < 11:\n",
    "                        sum += 11\n",
    "                    else:\n",
    "                        sum +=1\n",
    "            else:\n",
    "                sum += i\n",
    "        if sum>21:\n",
    "            print('BUSTED!')\n",
    "        elif sum==21:\n",
    "            print('BLACKJACK!')\n",
    "        return sum \n",
    "\n",
    "#class dealer:\n",
    "    def __init__(self):\n",
    "        self.Cardlist=[CARDdealer(),CARDdealer()]\n",
    "    def Addcard(self):\n",
    "        self.Cardlist.append(CARDdealer)\n",
    "\n",
    "\n"
   ]
  },
  {
   "cell_type": "code",
   "execution_count": 125,
   "metadata": {},
   "outputs": [
    {
     "output_type": "stream",
     "name": "stdout",
     "text": [
      "['Q', 'A']\nBLACKJACK!\n21\n['Q', 'A']\nBLACKJACK!\n21\n"
     ]
    }
   ],
   "source": [
    "Matt= player()\n",
    "#print(Matt.Cardlist[0]+Matt.Cardlist[1])\n",
    "Dealer= dealer()\n",
    "\n",
    "#Matt.Addcard()\n",
    "\n",
    "print(Matt.Cardlist)\n",
    "\n",
    "\n",
    "matt_sum = Matt.Card_sum()\n",
    "\n",
    "print(matt_sum)\n",
    "#Matt.HIT()\n",
    "print(Matt.Cardlist)\n",
    "matt_sum = Matt.Card_sum()\n",
    "#print(matt_sum)"
   ]
  },
  {
   "cell_type": "code",
   "execution_count": null,
   "metadata": {},
   "outputs": [],
   "source": []
  }
 ]
}