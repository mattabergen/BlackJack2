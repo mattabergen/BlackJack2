{
 "metadata": {
  "language_info": {
   "codemirror_mode": {
    "name": "ipython",
    "version": 3
   },
   "file_extension": ".py",
   "mimetype": "text/x-python",
   "name": "python",
   "nbconvert_exporter": "python",
   "pygments_lexer": "ipython3",
   "version": "3.9.1-final"
  },
  "orig_nbformat": 2,
  "kernelspec": {
   "name": "python3",
   "display_name": "Python 3.9.1 64-bit",
   "metadata": {
    "interpreter": {
     "hash": "57a06d42e878518c633c152f97db93f3fccb98e7a94a4c290ace1bbb7b7c4f07"
    }
   }
  }
 },
 "nbformat": 4,
 "nbformat_minor": 2,
 "cells": [
  {
   "cell_type": "code",
   "execution_count": 218,
   "metadata": {},
   "outputs": [],
   "source": [
    "import random as rd #one card to me, then dealer, then me, then a secret card to dealer\n",
    "def CARDdealer():\n",
    "    x=rd.randrange(1,14)\n",
    "    if x>1 and x<11:\n",
    "        card=x\n",
    "    elif x==11:\n",
    "        card={'J':10}\n",
    "    elif x==12:\n",
    "        card={'Q':10}\n",
    "    elif x==13:\n",
    "        card={'K':10}\n",
    "    elif x==1:\n",
    "        card='A'            #need to make either a 1 or 11 value!\n",
    "    return card\n",
    "\n",
    "class player:\n",
    "    def __init__(self):\n",
    "        self.Cardlist=[CARDdealer(),CARDdealer()]\n",
    "    def Addcard(newcard):\n",
    "        self.cardlist.append[CARDdealer()]\n",
    "\n",
    "class dealer:\n",
    "    def __init__(self):\n",
    "        self.Cardlist=[CARDdealer(),CARDdealer()]\n",
    "    def Addcard(newcard):\n",
    "        self.cardlist.append(newcard)\n"
   ]
  },
  {
   "cell_type": "code",
   "execution_count": 243,
   "metadata": {},
   "outputs": [
    {
     "output_type": "stream",
     "name": "stdout",
     "text": [
      "17\n{'K': 10}\n"
     ]
    }
   ],
   "source": [
    "Matt= player()\n",
    "print(Matt.Cardlist[0]+Matt.Cardlist[1])\n",
    "Dealer= dealer()\n",
    "print(Dealer.Cardlist[0])"
   ]
  },
  {
   "cell_type": "code",
   "execution_count": null,
   "metadata": {},
   "outputs": [],
   "source": []
  }
 ]
}