{
 "metadata": {
  "language_info": {
   "codemirror_mode": {
    "name": "ipython",
    "version": 3
   },
   "file_extension": ".py",
   "mimetype": "text/x-python",
   "name": "python",
   "nbconvert_exporter": "python",
   "pygments_lexer": "ipython3",
   "version": "3.8.5-final"
  },
  "orig_nbformat": 2,
  "kernelspec": {
   "name": "python3",
   "display_name": "Python 3.8.5 32-bit",
   "metadata": {
    "interpreter": {
     "hash": "f0dc9447796183b6a8b18c22b72fb5c7e27ae2dd2916b6d4ce713e594a4d0dac"
    }
   }
  }
 },
 "nbformat": 4,
 "nbformat_minor": 2,
 "cells": [
  {
   "cell_type": "code",
   "execution_count": 43,
   "metadata": {},
   "outputs": [],
   "source": [
    "import random as rd #one card to me, then dealer, then me, then a secret card to dealer\n",
    "def CARDdealer():\n",
    "    x=rd.randrange(1,14)\n",
    "    if x>1 and x<11:\n",
    "        card=x\n",
    "    elif x==11:\n",
    "        card='J'\n",
    "    elif x==12:\n",
    "        card='Q'\n",
    "    elif x==13:\n",
    "        card='K'\n",
    "    elif x==1:\n",
    "        card='A'            #need to make either a 1 or 11 value!\n",
    "    return card\n",
    "\n",
    "class player:\n",
    "    def __init__(self):\n",
    "        self.Cardlist=[CARDdealer(),CARDdealer()]\n",
    "    def Addcard(self):\n",
    "        self.Cardlist.append(CARDdealer())\n",
    "    def Card_sum(self):\n",
    "        sum = 0 \n",
    "        for i in self.Cardlist:\n",
    "            if isinstance(i,str): \n",
    "                if i == 'J' or i =='Q' or i=='K':\n",
    "                    sum += 10\n",
    "                elif i == 'A':\n",
    "                    if sum < 11:\n",
    "                        sum += 11\n",
    "                    else:\n",
    "                        sum +=1\n",
    "            else:\n",
    "                sum += i\n",
    "        return sum \n",
    "\n",
    "\n",
    "\n",
    "class dealer:\n",
    "    def __init__(self):\n",
    "        self.Cardlist=[CARDdealer(),CARDdealer()]\n",
    "    def Addcard(self):\n",
    "        self.Cardlist.append(CARDdealer)\n"
   ]
  },
  {
   "cell_type": "code",
   "execution_count": 88,
   "metadata": {},
   "outputs": [
    {
     "output_type": "stream",
     "name": "stdout",
     "text": [
      "['A', 5]\n"
     ]
    },
    {
     "output_type": "execute_result",
     "data": {
      "text/plain": [
       "16"
      ]
     },
     "metadata": {},
     "execution_count": 88
    }
   ],
   "source": [
    "Matt= player()\n",
    "#print(Matt.Cardlist[0]+Matt.Cardlist[1])\n",
    "Dealer= dealer()\n",
    "\n",
    "#Matt.Addcard()\n",
    "\n",
    "print(Matt.Cardlist)\n",
    "\n",
    "\n",
    "matt_sum = Matt.Card_sum()\n",
    "\n",
    "matt_sum"
   ]
  },
  {
   "cell_type": "code",
   "execution_count": null,
   "metadata": {},
   "outputs": [],
   "source": []
  }
 ]
}